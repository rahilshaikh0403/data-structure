{
 "cells": [
  {
   "cell_type": "code",
   "execution_count": 1,
   "id": "ca7e3b51",
   "metadata": {},
   "outputs": [
    {
     "data": {
      "text/plain": [
       "'lihar'"
      ]
     },
     "execution_count": 1,
     "metadata": {},
     "output_type": "execute_result"
    }
   ],
   "source": [
    "#1) Write a code to reverse a string\n",
    "str='rahil'\n",
    "str[::-1]\n"
   ]
  },
  {
   "cell_type": "code",
   "execution_count": 1,
   "id": "817f5eb8",
   "metadata": {},
   "outputs": [
    {
     "name": "stdout",
     "output_type": "stream",
     "text": [
      "2\n"
     ]
    }
   ],
   "source": [
    "#2)write a code to count the number of vowels in a string\n",
    "R =\"Rahil\"\n",
    "vowels= \"a e i o u A I E O U\"\n",
    "count= sum(R.count(vowel) for vowel in vowels)\n",
    "print(count)"
   ]
  },
  {
   "cell_type": "code",
   "execution_count": 2,
   "id": "ff050891",
   "metadata": {},
   "outputs": [
    {
     "name": "stdout",
     "output_type": "stream",
     "text": [
      "palindrome\n"
     ]
    }
   ],
   "source": [
    "# 3) Write a code to check if a given string is a palindrome or not\n",
    "a=\"wow\"\n",
    "if a[::-1]==a[0::]:\n",
    "    print(\"palindrome\")\n",
    "else:\n",
    "    print(\"not palindrome\")"
   ]
  },
  {
   "cell_type": "code",
   "execution_count": 2,
   "id": "15f84385",
   "metadata": {},
   "outputs": [
    {
     "name": "stdout",
     "output_type": "stream",
     "text": [
      "Not anagrams\n"
     ]
    }
   ],
   "source": [
    "#4) Write a code to check if two given strings are anagrams of each other\n",
    "str1=\"length\"\n",
    "str2=\"height\"\n",
    "\n",
    "if sorted(str1)==sorted(str2):\n",
    "    print(\"strings are anagrams\")\n",
    "else:\n",
    "        print(\"Not anagrams\")\n"
   ]
  },
  {
   "cell_type": "code",
   "execution_count": 6,
   "id": "2e7ee959",
   "metadata": {},
   "outputs": [
    {
     "data": {
      "text/plain": [
       "[0]"
      ]
     },
     "execution_count": 6,
     "metadata": {},
     "output_type": "execute_result"
    }
   ],
   "source": [
    "# 5)Write a code to find all occurrences of a given substring within another string\n",
    "str1=\"rahil bashir shaikh\"\n",
    "str2=\"rahil\"\n",
    "[i for i in range(len(str1)) if str1.startswith(str2,i)]"
   ]
  },
  {
   "cell_type": "code",
   "execution_count": 6,
   "id": "955b3a4d",
   "metadata": {},
   "outputs": [
    {
     "data": {
      "text/plain": [
       "2"
      ]
     },
     "execution_count": 6,
     "metadata": {},
     "output_type": "execute_result"
    }
   ],
   "source": [
    "# 6) Write a code to perform basic string compression using the counts of repeated characters\n",
    "str1=\"maths, science, maths, physics\"\n",
    "str1.count('maths')"
   ]
  },
  {
   "cell_type": "code",
   "execution_count": 7,
   "id": "aca622bd",
   "metadata": {},
   "outputs": [
    {
     "name": "stdout",
     "output_type": "stream",
     "text": [
      "True\n"
     ]
    }
   ],
   "source": [
    "#7) Write a code to determine if a string has all unique characters\n",
    "a=\"abcde\"\n",
    "x=list(set(a))\n",
    "y=list(a)\n",
    "x.sort()\n",
    "y.sort()\n",
    "if(x==y):\n",
    "    print(True)\n",
    "else:  \n",
    "    print(False)"
   ]
  },
  {
   "cell_type": "code",
   "execution_count": 8,
   "id": "b82547ad",
   "metadata": {},
   "outputs": [
    {
     "data": {
      "text/plain": [
       "'i am a student'"
      ]
     },
     "execution_count": 8,
     "metadata": {},
     "output_type": "execute_result"
    }
   ],
   "source": [
    "# 8) Write a code to convert a given string to uppercase or lowercase\n",
    "P= \"I AM A STUDENT\"\n",
    "P.lower()"
   ]
  },
  {
   "cell_type": "code",
   "execution_count": 9,
   "id": "8bd9e2e3",
   "metadata": {},
   "outputs": [
    {
     "name": "stdout",
     "output_type": "stream",
     "text": [
      "string are immutable\n",
      "numbers of characters in strings are:\n"
     ]
    },
    {
     "data": {
      "text/plain": [
       "3"
      ]
     },
     "execution_count": 9,
     "metadata": {},
     "output_type": "execute_result"
    }
   ],
   "source": [
    "# 9) Write a code to count the number of words in a string\n",
    "str=\"string are immutable\"\n",
    "print(str)\n",
    "print(\"numbers of characters in strings are:\")\n",
    "a=len(str.split())\n",
    "a"
   ]
  },
  {
   "cell_type": "code",
   "execution_count": 7,
   "id": "b9ee2b6b",
   "metadata": {},
   "outputs": [
    {
     "data": {
      "text/plain": [
       "'rahilshaikh'"
      ]
     },
     "execution_count": 7,
     "metadata": {},
     "output_type": "execute_result"
    }
   ],
   "source": [
    "#10) Write a code to concatenate two strings without using the + operator\n",
    "a=\"rahil\"\n",
    "b=\"shaikh\"\n",
    "c=\"\".join([a,b])\n",
    "c"
   ]
  },
  {
   "cell_type": "code",
   "execution_count": 6,
   "id": "6b80d138",
   "metadata": {},
   "outputs": [
    {
     "data": {
      "text/plain": [
       "'rahil, monya, montya, ,'"
      ]
     },
     "execution_count": 6,
     "metadata": {},
     "output_type": "execute_result"
    }
   ],
   "source": [
    "#11)Write a code to remove all occurrences of a specific element from a list\n",
    "a=\"rahil, monya, montya,sai ,sai\"\n",
    "a.replace('sai','')"
   ]
  },
  {
   "cell_type": "code",
   "execution_count": 12,
   "id": "0e7bfd89",
   "metadata": {},
   "outputs": [
    {
     "data": {
      "text/plain": [
       "5"
      ]
     },
     "execution_count": 12,
     "metadata": {},
     "output_type": "execute_result"
    }
   ],
   "source": [
    "# 12)implement a code to find the second largest number in a given list of integers\n",
    "num=[3,4,5,7]\n",
    "num.sort()\n",
    "num[-2]\n",
    "                        "
   ]
  },
  {
   "cell_type": "code",
   "execution_count": 13,
   "id": "f01eb41e",
   "metadata": {},
   "outputs": [
    {
     "name": "stdout",
     "output_type": "stream",
     "text": [
      "{1: 5, 5: 2, 3: 3, 4: 3, 2: 4}\n"
     ]
    }
   ],
   "source": [
    "'''13)Create a code to count the occurrences of each element in a list and return a dictionary with elements as\n",
    "keys and their counts as values'''\n",
    "\n",
    "def CountFrequency(my_list):\n",
    "    count = {}\n",
    "    for i in [1, 1, 1, 5, 5, 3, 1, 3, 3, 1, 4, 4, 4, 2, 2, 2, 2]:\n",
    "        count[i] = count.get(i, 0) + 1\n",
    "    return count\n",
    "if name == \"main\":\n",
    "    my_list = [1, 1, 1, 5, 5, 3, 1, 3, 3, 1, 4, 4, 4, 2, 2, 2, 2]\n",
    "    print(CountFrequency(my_list))\n"
   ]
  },
  {
   "cell_type": "code",
   "execution_count": 14,
   "id": "0ef42332",
   "metadata": {},
   "outputs": [
    {
     "name": "stdout",
     "output_type": "stream",
     "text": [
      "[True, 'pqr', 4, 5]\n"
     ]
    }
   ],
   "source": [
    "#14) Write a code to reverse a list in-place without using any built-in reverse functions\n",
    "l=[5,4,'pqr',True]\n",
    "l1=l[::-1]\n",
    "print(l1)"
   ]
  },
  {
   "cell_type": "code",
   "execution_count": 15,
   "id": "498b7c5d",
   "metadata": {},
   "outputs": [
    {
     "name": "stdout",
     "output_type": "stream",
     "text": [
      "9 length of list\n",
      "7 length of set\n",
      "duplicates are present\n",
      "[3, 5, 8, 9, 7, 6, 4]\n"
     ]
    }
   ],
   "source": [
    "'''15)implement a code to find and remove duplicates from a list while preserving the original order of\n",
    "elements'''\n",
    "\n",
    "list=[3,5,8,9,5,5,7,6,4]\n",
    "#find duplicates are present or not\n",
    "print(len(list),\"length of list\")\n",
    "set1=set(list)\n",
    "print(len(set1),\"length of set\")\n",
    "if (len(list))==(len(set1)):\n",
    "    print(\"duplicates are not present\")\n",
    "else:\n",
    "    print(\"duplicates are present\")\n",
    "\n",
    "b = []\n",
    "\n",
    "for i in list:\n",
    "    if i not in b:\n",
    "        b.append(i)\n",
    "\n",
    "print(b)\n"
   ]
  },
  {
   "cell_type": "code",
   "execution_count": 16,
   "id": "0db45db3",
   "metadata": {},
   "outputs": [
    {
     "name": "stdout",
     "output_type": "stream",
     "text": [
      "[11, 23, 52, 70, 52]\n",
      "list is not sorted\n"
     ]
    }
   ],
   "source": [
    "#16)Create a code to check if a given list is sorted (either in ascending or descending order) or nol\n",
    "#ascending order or not\n",
    "l1=[11,23,52,70,52]\n",
    "print(l1)\n",
    "l1_copy=l1[:]\n",
    "l1_copy.sort()\n",
    "if (l1==l1_copy):\n",
    "    print(\"yes list is sorted\")\n",
    "else:\n",
    "    print(\"list is not sorted\")"
   ]
  },
  {
   "cell_type": "code",
   "execution_count": 68,
   "id": "3acb48a0",
   "metadata": {},
   "outputs": [
    {
     "name": "stdout",
     "output_type": "stream",
     "text": [
      "[4, 5, 5, 6, 8, 9]\n",
      "[5, 8, 10, 50, 65, 85]\n",
      "[4, 5, 5, 5, 6, 8, 8, 9, 10, 50, 65, 85]\n"
     ]
    }
   ],
   "source": [
    "#17) Write code to merge two sorted lists into ' single sorted list\n",
    "l1=[4,5,9,8,6,5]\n",
    "l1.sort()\n",
    "print(l1)\n",
    "l2=[5,8,10,50,65,85]\n",
    "l2.sort()\n",
    "print(l2)\n",
    "l3=l1+l2\n",
    "\n",
    "l3.sort()\n",
    "print(l3)\n",
    "\n"
   ]
  },
  {
   "cell_type": "code",
   "execution_count": 18,
   "id": "2ec937d7",
   "metadata": {},
   "outputs": [
    {
     "name": "stdout",
     "output_type": "stream",
     "text": [
      "Intersection of the two lists: {25, 84, 30}\n"
     ]
    }
   ],
   "source": [
    "#18) Implement code to find the intersection of two given lists\n",
    "list1 = [10, 25, 30, 56, 84, 5]\n",
    "list2 = [52, 25, 31, 30, 58, 84]\n",
    "intersection= set(list1).intersection(list2)\n",
    "\n",
    "print(\"Intersection of the two lists:\",intersection)\n"
   ]
  },
  {
   "cell_type": "code",
   "execution_count": 19,
   "id": "59329896",
   "metadata": {},
   "outputs": [
    {
     "name": "stdout",
     "output_type": "stream",
     "text": [
      "union of two list: {10, 20, 89, 34, 35, 100, 50, 55, 56, 59}\n"
     ]
    }
   ],
   "source": [
    "#19) Create a code to find the union of two lists without duplicates\n",
    "list1=[10,20,50,89,35,100]\n",
    "list2=[10,20,59,34,56,55]\n",
    "union= set(list1).union(list2)\n",
    "print(\"union of two list:\",union)"
   ]
  },
  {
   "cell_type": "code",
   "execution_count": 20,
   "id": "49248641",
   "metadata": {},
   "outputs": [
    {
     "name": "stdout",
     "output_type": "stream",
     "text": [
      "[20, 10, 30, 40, 50]\n"
     ]
    }
   ],
   "source": [
    "#20) \u0012 Write a code to shuffle a given list randomly without using any build in shuffle function\n",
    "import random\n",
    "l1=[10,20,30,40,50]\n",
    "n=len(l1)\n",
    "for i in range(n-1,0,-1):\n",
    "    j=random.randint(0,i)\n",
    "l1[1],l1[j]=l1[j],l1[i]\n",
    "print(l1)\n"
   ]
  },
  {
   "cell_type": "raw",
   "id": "0e46917f",
   "metadata": {},
   "source": []
  },
  {
   "cell_type": "markdown",
   "id": "8d623834",
   "metadata": {},
   "source": []
  },
  {
   "cell_type": "code",
   "execution_count": 21,
   "id": "d6e36bc8",
   "metadata": {},
   "outputs": [
    {
     "name": "stdout",
     "output_type": "stream",
     "text": [
      "enter elements of the first tuple : 1 2 3\n",
      "enter elements of the secound tuple : 5 6 4\n",
      "()\n"
     ]
    }
   ],
   "source": [
    " #21) Write a code that take two tuples'input and return'a new tuple to containing elements that are common to both input tuple\n",
    "tuple1 = tuple(map(int, input(\"enter elements of the first tuple : \").split()))\n",
    "tuple2 = tuple(map(int, input(\"enter elements of the secound tuple : \").split()))\n",
    "a=set(tuple1)\n",
    "b=set(tuple2)\n",
    "tuple3=set (tuple1).intersection(tuple2)\n",
    "common_element=tuple(tuple3)\n",
    "print(common_element)\n",
    "\n"
   ]
  },
  {
   "cell_type": "code",
   "execution_count": 22,
   "id": "4e7740ec",
   "metadata": {},
   "outputs": [
    {
     "name": "stdout",
     "output_type": "stream",
     "text": [
      "enter elements of the first set of integer :2 5 4 5\n",
      "enter elements of the secound set of integeger  : 4 5 6\n",
      "{4, 5}\n"
     ]
    }
   ],
   "source": [
    "#22) create a code that promots the user to enter two sets of integer seperated by commas, then print the intersection of two \n",
    "#sets'''\n",
    "\n",
    "set1 = set(map(int, input(\"enter elements of the first set of integer :\").split()))\n",
    "set2= set(map( int,input(\"enter elements of the secound set of integeger  :\").split()))\n",
    "intersection=(set1). intersection(set2)\n",
    "print(intersection)\n"
   ]
  },
  {
   "cell_type": "code",
   "execution_count": null,
   "id": "7902f2bc",
   "metadata": {},
   "outputs": [],
   "source": [
    "\n",
    "\n"
   ]
  },
  {
   "cell_type": "code",
   "execution_count": 8,
   "id": "b4b2971f",
   "metadata": {},
   "outputs": [
    {
     "name": "stdout",
     "output_type": "stream",
     "text": [
      "Enter elements of the first tuple separated by space: 1,2,3\n",
      "Enter elements of the second tuple separated by space: 4,5,6\n",
      "('1', '2', '3', '4', '5', '6')\n"
     ]
    }
   ],
   "source": [
    "#23 Write ' code to concatenate two tuple The funcion should take two tuples as input and return a new tuple that contining elements from  both input tuples\n",
    "tuple1 = tuple(map(str, input(\"Enter elements of the first tuple separated by space: \").split(',')))\n",
    "tuple2 = tuple(map(str, input(\"Enter elements of the second tuple separated by space: \").split(',')))\n",
    "concatenated_tuple = tuple1 + tuple2\n",
    "print(concatenated_tuple)\n",
    "\n",
    "\n",
    "    "
   ]
  },
  {
   "cell_type": "code",
   "execution_count": 26,
   "id": "906d25a9",
   "metadata": {},
   "outputs": [
    {
     "name": "stdout",
     "output_type": "stream",
     "text": [
      "enter string one characterspragati bandal\n",
      "enter string secound characterspragati\n",
      "{'d', ' ', 'b', 'l', 'n'}\n"
     ]
    }
   ],
   "source": [
    "#24)develop a code that prompts the user to input two sets of string then print the element that are present in the first set but not in secound set\n",
    "\n",
    "string1=input(\"enter string one characters\")\n",
    "string2=input(\"enter string secound characters\")\n",
    "a=set(string1)\n",
    "b=set(string2)\n",
    "result=(a-b)\n",
    "print(result)"
   ]
  },
  {
   "cell_type": "code",
   "execution_count": 27,
   "id": "2500a8d6",
   "metadata": {},
   "outputs": [
    {
     "name": "stdout",
     "output_type": "stream",
     "text": [
      "enter first index no.3\n",
      "enetr last index no.6\n",
      "(4, 5, 6, 7)\n"
     ]
    }
   ],
   "source": [
    "#25)create a code that takes a tuple and two integers as input the function should return a new tuple containing elements fron the \n",
    "#orignal tuple within the specified range of indices'''\n",
    "t=(1,2,3,4,5,6,7,8,9,10)\n",
    "t1=int(input(\"enter first index no.\"))\n",
    "t2=int(input(\"enetr last index no.\"))\n",
    "if t1 < 0 or t2 >= len(t) or t1 > t2:\n",
    "    new_tuple()\n",
    "else: \n",
    "        new_tuple=t[t1:t2+1]\n",
    "        print(new_tuple)"
   ]
  },
  {
   "cell_type": "code",
   "execution_count": 3,
   "id": "43e6c8f9",
   "metadata": {},
   "outputs": [
    {
     "name": "stdout",
     "output_type": "stream",
     "text": [
      "enter first set of character abc pqr\n",
      "enter secound set of character abc xyz\n",
      "union of two set is: {' abc xyz', ' abc pqr'}\n"
     ]
    }
   ],
   "source": [
    "#26)write a code that prompts the user to input two sets of characters then print union of this two set\n",
    "p=input(\"enter first set of character\").split(',')\n",
    "q=input(\"enter secound set of character\").split(',') \n",
    "set3=(p)\n",
    "set4=(q)\n",
    "union=set(set3).union(set4)\n",
    "print(\"union of two set is:\",union)"
   ]
  },
  {
   "cell_type": "code",
   "execution_count": 30,
   "id": "4a60ead7",
   "metadata": {},
   "outputs": [
    {
     "name": "stdout",
     "output_type": "stream",
     "text": [
      "maximum value 86\n",
      "minimum value 1\n"
     ]
    }
   ],
   "source": [
    "#27)develop a code that takes a tuple of integer  the function should return the maximum and minimum values from the tuple using tuple unpacking\n",
    "\n",
    "t1=(1,20,30,40,50,79,86)\n",
    "maximum_no=max(t1)\n",
    "minimum_no=min(t1)\n",
    "print(\"maximum value\",maximum_no)\n",
    "print(\"minimum value\",minimum_no)\n",
    "\n"
   ]
  },
  {
   "cell_type": "code",
   "execution_count": 31,
   "id": "0eef8e92",
   "metadata": {},
   "outputs": [
    {
     "name": "stdout",
     "output_type": "stream",
     "text": [
      "union of two set is: {1, 2, 3, 5, 6, 7, 8, 9, 10}\n",
      "intersection of two set is: {5, 6, 7}\n",
      "difference of two set is: {1, 2, 3}\n"
     ]
    }
   ],
   "source": [
    "#28)create a code that defines two sets of integers then print union ,intersection and difference of this two sets\n",
    "s1={1,2,3,5,6,7}\n",
    "s2={5,6,7,8,9,10}\n",
    "#union\n",
    "print(\"union of two set is:\",s1 | s2)\n",
    "#intersection\n",
    "print(\"intersection of two set is:\",s1 & s2)\n",
    "#difference\n",
    "print(\"difference of two set is:\",s1 - s2)"
   ]
  },
  {
   "cell_type": "code",
   "execution_count": 32,
   "id": "8ec259e3",
   "metadata": {},
   "outputs": [
    {
     "name": "stdout",
     "output_type": "stream",
     "text": [
      "enter element to find occurence5\n",
      "0\n"
     ]
    }
   ],
   "source": [
    "#29) write a code that take a tuple and element as input the function should return the count of occurences of the given\n",
    "#element in the tuple\n",
    "tuple=(1,2,3,4,56,1,2,6)\n",
    "\n",
    "element=int(input(\"enter element to find occurence\"))\n",
    "count=tuple.count(element) \n",
    "print(count)"
   ]
  },
  {
   "cell_type": "markdown",
   "id": "d147733d",
   "metadata": {},
   "source": []
  },
  {
   "cell_type": "code",
   "execution_count": 66,
   "id": "03844bfb",
   "metadata": {},
   "outputs": [
    {
     "name": "stdout",
     "output_type": "stream",
     "text": [
      "enter elements of the first set of string :abc pqr\n",
      "enter elements of the first set of integer :abc xyz lmn\n",
      "Symmetric difference of the two sets: {'pqr', 'xyz', 'lmn'}\n"
     ]
    }
   ],
   "source": [
    "#30)develop a code that prompts the user to input two set of string then print the symmentric difference of this two sets\n",
    "\n",
    "set1 = set(input(\"enter elements of the first set of string :\").split())\n",
    "\n",
    "set2 = set(input(\"enter elements of the first set of integer :\").split())\n",
    "\n",
    "difference = set1.symmetric_difference(set2)\n",
    "print(\"Symmetric difference of the two sets:\", difference)\n"
   ]
  },
  {
   "cell_type": "code",
   "execution_count": 7,
   "id": "89fbe2de",
   "metadata": {},
   "outputs": [
    {
     "name": "stdout",
     "output_type": "stream",
     "text": [
      "{'rahil': 2, 'shaikh': 1, 'monya': 1}\n"
     ]
    }
   ],
   "source": [
    "#31) write a code that take a list words as a input and return dictonary where the keys are unique words and the values\n",
    "#are frequencis of those words in the inputlist\n",
    "def Count_Frequencis(my_list):\n",
    "    count = {}\n",
    "    for i in ['rahil','shaikh','monya','rahil']:\n",
    "        count[i] = count.get(i, 0) + 1\n",
    "    return count\n",
    "if __name__ == \"__main__\":\n",
    "    my_list = ['rahil','shaikh','monya','rahil']\n",
    "    print(Count_Frequencis(my_list))\n"
   ]
  },
  {
   "cell_type": "code",
   "execution_count": 42,
   "id": "8122c8dc",
   "metadata": {},
   "outputs": [
    {
     "name": "stdout",
     "output_type": "stream",
     "text": [
      "The new dict is: {'a': 310, 'b': 200, 'd': 400, 'c': 50}\n"
     ]
    }
   ],
   "source": [
    "#32)write a code that takes two dictonaries as input and merges them into single dictonary if there are common keys the value should be added together\n",
    "\n",
    "dict1 = {'a': 10, 'b': 200, 'c':50}  \n",
    "dict2 = {'a': 300, 'b': 0, 'd':400}  \n",
    "new_dict = dict2  \n",
    "for i, j in dict1.items():  \n",
    "    if i in dict2:  \n",
    "        new_dict[i] = j + dict2[i]  \n",
    "    else:   \n",
    "            new_dict[i] = j  \n",
    "            print(\"The new dict is:\", new_dict)  \n"
   ]
  },
  {
   "cell_type": "code",
   "execution_count": 12,
   "id": "09a02b03",
   "metadata": {},
   "outputs": [
    {
     "name": "stdout",
     "output_type": "stream",
     "text": [
      "1\n",
      "None\n",
      "None\n"
     ]
    }
   ],
   "source": [
    "#33)write a code access a value in a nested dictonary the function should takes the dictonary and a list of keys as a input and return\n",
    "#the corresponding value if any of the key do not exist in the dictonary the function should return none'''\n",
    "def access_nested_dict(nested_dict, keys):\n",
    "    current = nested_dict\n",
    "    for key in keys:\n",
    "        if isinstance(current, dict) and key in current:\n",
    "            current = current[key]\n",
    "        else:\n",
    "            return None\n",
    "    return current\n",
    "\n",
    "nested_dict = {\n",
    "    'a': {\n",
    "        'b': {\n",
    "            'c': 1\n",
    "        }\n",
    "    },\n",
    "    'x': {\n",
    "        'y': 2\n",
    "    }\n",
    "}\n",
    "\n",
    "result1 = access_nested_dict(nested_dict, ['a', 'b', 'c'])\n",
    "print(result1) \n",
    "\n",
    "result2 = access_nested_dict(nested_dict, ['a', 'b', 'd'])\n",
    "print(result2)\n",
    "\n",
    "result3 = access_nested_dict(nested_dict, ['x', 'z'])\n",
    "print(result3)"
   ]
  },
  {
   "cell_type": "code",
   "execution_count": 6,
   "id": "d2ed55a4",
   "metadata": {},
   "outputs": [
    {
     "name": "stdout",
     "output_type": "stream",
     "text": [
      "{'a': 2, 'b': 3, 'c': 8, 'd': 9}\n"
     ]
    }
   ],
   "source": [
    "#34)write a code that takes dictionary as a input and return the sorted version of it based on its values you can choose \n",
    "#whether to sort ascending or descending order'''\n",
    "def kwarg_fun(**kwargs):\n",
    "    return kwargs\n",
    "a = kwarg_fun(a=2, b=3, c=8, d=9)\n",
    "\n",
    "\n",
    "sorted_dict = {}\n",
    "for key in sorted(a, key=a.get):\n",
    "    sorted_dict[key] = a[key]\n",
    "\n",
    "print(sorted_dict)\n"
   ]
  },
  {
   "cell_type": "code",
   "execution_count": 10,
   "id": "99912295",
   "metadata": {},
   "outputs": [
    {
     "name": "stdout",
     "output_type": "stream",
     "text": [
      "{1: ['a', 'c'], 2: ['b'], 3: ['d']}\n"
     ]
    }
   ],
   "source": [
    "\n",
    "'''35) write a code that inverts a dictonary swaping keys and value ensure that the inverted dictonary correctly handels cases\n",
    "where multiple keys have the same value by sorting the key as a list in the inverted dictonary''\n",
    "from collections import defaultdict'''\n",
    "\n",
    "from collections import defaultdict\n",
    "\n",
    "def invert_dictionary(original_dict):\n",
    "    inverted_dict = defaultdict(list)\n",
    "\n",
    "    for key, value in original_dict.items():\n",
    "        inverted_dict[value].append(key)\n",
    "\n",
    "    return dict(inverted_dict)\n",
    "\n",
    "# Example usage\n",
    "original_dict = {\n",
    "    'a': 1,\n",
    "    'b': 2,\n",
    "    'c': 1,\n",
    "    'd': 3\n",
    "}\n",
    "\n",
    "inverted_dict = invert_dictionary(original_dict)\n",
    "print(inverted_dict)\n"
   ]
  },
  {
   "cell_type": "code",
   "execution_count": null,
   "id": "44cc1f12",
   "metadata": {},
   "outputs": [],
   "source": []
  }
 ],
 "metadata": {
  "kernelspec": {
   "display_name": "Python 3",
   "language": "python",
   "name": "python3"
  },
  "language_info": {
   "codemirror_mode": {
    "name": "ipython",
    "version": 3
   },
   "file_extension": ".py",
   "mimetype": "text/x-python",
   "name": "python",
   "nbconvert_exporter": "python",
   "pygments_lexer": "ipython3",
   "version": "3.12.4"
  }
 },
 "nbformat": 4,
 "nbformat_minor": 5
}
